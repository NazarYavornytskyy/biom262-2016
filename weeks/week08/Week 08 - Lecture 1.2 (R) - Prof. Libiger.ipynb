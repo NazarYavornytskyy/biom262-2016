{
 "cells": [
  {
   "cell_type": "markdown",
   "metadata": {},
   "source": [
    "# Now, using R..."
   ]
  },
  {
   "cell_type": "code",
   "execution_count": 3,
   "metadata": {
    "collapsed": false
   },
   "outputs": [
    {
     "name": "stderr",
     "output_type": "stream",
     "text": [
      "Warning message:\n",
      "In file(file, \"rt\"): cannot open file 'hapmap3_thin_pruned.mdist': No such file or directory"
     ]
    },
    {
     "ename": "ERROR",
     "evalue": "Error in file(file, \"rt\"): cannot open the connection\n",
     "output_type": "error",
     "traceback": [
      "Error in file(file, \"rt\"): cannot open the connection\n"
     ]
    },
    {
     "name": "stderr",
     "output_type": "stream",
     "text": [
      "Warning message:\n",
      "In file(file, \"rt\"): cannot open file 'hapmap3_chr21_pruned.mdist': No such file or directory"
     ]
    },
    {
     "ename": "ERROR",
     "evalue": "Error in file(file, \"rt\"): cannot open the connection\n",
     "output_type": "error",
     "traceback": [
      "Error in file(file, \"rt\"): cannot open the connection\n"
     ]
    },
    {
     "name": "stderr",
     "output_type": "stream",
     "text": [
      "Warning message:\n",
      "In file(file, \"rt\"): cannot open file 'hapmap3_pruned.mdist': No such file or directory"
     ]
    },
    {
     "ename": "ERROR",
     "evalue": "Error in file(file, \"rt\"): cannot open the connection\n",
     "output_type": "error",
     "traceback": [
      "Error in file(file, \"rt\"): cannot open the connection\n"
     ]
    },
    {
     "ename": "ERROR",
     "evalue": "Error in contrib.url(repos, type): trying to use CRAN without setting a mirror\n",
     "output_type": "error",
     "traceback": [
      "Error in contrib.url(repos, type): trying to use CRAN without setting a mirror\n"
     ]
    },
    {
     "ename": "ERROR",
     "evalue": "Error in library(vegan): there is no package called ‘vegan’\n",
     "output_type": "error",
     "traceback": [
      "Error in library(vegan): there is no package called ‘vegan’\n"
     ]
    },
    {
     "ename": "ERROR",
     "evalue": "Error in cmdscale(thin, 2): object 'thin' not found\n",
     "output_type": "error",
     "traceback": [
      "Error in cmdscale(thin, 2): object 'thin' not found\n"
     ]
    },
    {
     "ename": "ERROR",
     "evalue": "Error in cmdscale(chr21, 2): object 'chr21' not found\n",
     "output_type": "error",
     "traceback": [
      "Error in cmdscale(chr21, 2): object 'chr21' not found\n"
     ]
    },
    {
     "ename": "ERROR",
     "evalue": "Error in cmdscale(all, 2): anyNA() applied to non-(list or vector) of type 'builtin'\n",
     "output_type": "error",
     "traceback": [
      "Error in cmdscale(all, 2): anyNA() applied to non-(list or vector) of type 'builtin'\n"
     ]
    }
   ],
   "source": [
    "#start R\n",
    "thin=read.table(\"hapmap3_thin_pruned.mdist\",F)\n",
    "chr21=read.table(\"hapmap3_chr21_pruned.mdist\",F)\n",
    "all=read.table(\"hapmap3_pruned.mdist\",F)\n",
    "\n",
    "install.packages(\"vegan\")\n",
    "library(vegan)\n",
    "\n",
    "#multidimensional scaling\n",
    "thin_coord=cmdscale(thin,2)\n",
    "chr21_coord=cmdscale(chr21,2)\n",
    "all_coord=cmdscale(all,2)"
   ]
  },
  {
   "cell_type": "code",
   "execution_count": 4,
   "metadata": {
    "collapsed": false
   },
   "outputs": [
    {
     "ename": "ERROR",
     "evalue": "Error in plot(thin_coord[1:165, ], xlim = c(-0.2, 0.2), ylim = c(-0.2, : object 'thin_coord' not found\n",
     "output_type": "error",
     "traceback": [
      "Error in plot(thin_coord[1:165, ], xlim = c(-0.2, 0.2), ylim = c(-0.2, : object 'thin_coord' not found\n"
     ]
    },
    {
     "ename": "ERROR",
     "evalue": "Error in points(thin_coord[166:250, ], xlim = c(-0.2, 0.2), ylim = c(-0.2, : object 'thin_coord' not found\n",
     "output_type": "error",
     "traceback": [
      "Error in points(thin_coord[166:250, ], xlim = c(-0.2, 0.2), ylim = c(-0.2, : object 'thin_coord' not found\n"
     ]
    },
    {
     "ename": "ERROR",
     "evalue": "Error in points(thin_coord[251:317, ], xlim = c(-0.2, 0.2), ylim = c(-0.2, : object 'thin_coord' not found\n",
     "output_type": "error",
     "traceback": [
      "Error in points(thin_coord[251:317, ], xlim = c(-0.2, 0.2), ylim = c(-0.2, : object 'thin_coord' not found\n"
     ]
    }
   ],
   "source": [
    "\n",
    "#plot\n",
    "plot(thin_coord[1:165,],xlim=c(-0.2,0.2),ylim=c(-0.2,0.2),col=\"red\")\n",
    "points(thin_coord[166:250,],xlim=c(-0.2,0.2),ylim=c(-0.2,0.2),col=\"blue\",type=\"p\")\n",
    "points(thin_coord[251:317,],xlim=c(-0.2,0.2),ylim=c(-0.2,0.2),type=\"p\")"
   ]
  },
  {
   "cell_type": "code",
   "execution_count": 5,
   "metadata": {
    "collapsed": false
   },
   "outputs": [
    {
     "ename": "ERROR",
     "evalue": "Error in plot(chr21_coord[1:165, ], xlim = c(-0.2, 0.2), ylim = c(-0.2, : object 'chr21_coord' not found\n",
     "output_type": "error",
     "traceback": [
      "Error in plot(chr21_coord[1:165, ], xlim = c(-0.2, 0.2), ylim = c(-0.2, : object 'chr21_coord' not found\n"
     ]
    },
    {
     "ename": "ERROR",
     "evalue": "Error in points(chr21_coord[166:250, ], xlim = c(-0.2, 0.2), ylim = c(-0.2, : object 'chr21_coord' not found\n",
     "output_type": "error",
     "traceback": [
      "Error in points(chr21_coord[166:250, ], xlim = c(-0.2, 0.2), ylim = c(-0.2, : object 'chr21_coord' not found\n"
     ]
    },
    {
     "ename": "ERROR",
     "evalue": "Error in points(chr21_coord[251:317, ], xlim = c(-0.2, 0.2), ylim = c(-0.2, : object 'chr21_coord' not found\n",
     "output_type": "error",
     "traceback": [
      "Error in points(chr21_coord[251:317, ], xlim = c(-0.2, 0.2), ylim = c(-0.2, : object 'chr21_coord' not found\n"
     ]
    }
   ],
   "source": [
    "plot(chr21_coord[1:165,],xlim=c(-0.2,0.2),ylim=c(-0.2,0.2),col=\"red\")\n",
    "points(chr21_coord[166:250,],xlim=c(-0.2,0.2),ylim=c(-0.2,0.2),col=\"blue\",type=\"p\")\n",
    "points(chr21_coord[251:317,],xlim=c(-0.2,0.2),ylim=c(-0.2,0.2),type=\"p\")"
   ]
  },
  {
   "cell_type": "code",
   "execution_count": 6,
   "metadata": {
    "collapsed": false
   },
   "outputs": [
    {
     "ename": "ERROR",
     "evalue": "Error in plot(all_coord[1:165, ], xlim = c(-0.2, 0.2), ylim = c(-0.2, : object 'all_coord' not found\n",
     "output_type": "error",
     "traceback": [
      "Error in plot(all_coord[1:165, ], xlim = c(-0.2, 0.2), ylim = c(-0.2, : object 'all_coord' not found\n"
     ]
    },
    {
     "ename": "ERROR",
     "evalue": "Error in points(all_coord[166:250, ], xlim = c(-0.2, 0.2), ylim = c(-0.2, : object 'all_coord' not found\n",
     "output_type": "error",
     "traceback": [
      "Error in points(all_coord[166:250, ], xlim = c(-0.2, 0.2), ylim = c(-0.2, : object 'all_coord' not found\n"
     ]
    },
    {
     "ename": "ERROR",
     "evalue": "Error in points(all_coord[251:317, ], xlim = c(-0.2, 0.2), ylim = c(-0.2, : object 'all_coord' not found\n",
     "output_type": "error",
     "traceback": [
      "Error in points(all_coord[251:317, ], xlim = c(-0.2, 0.2), ylim = c(-0.2, : object 'all_coord' not found\n"
     ]
    }
   ],
   "source": [
    "plot(all_coord[1:165,],xlim=c(-0.2,0.2),ylim=c(-0.2,0.2),col=\"red\")\n",
    "points(all_coord[166:250,],xlim=c(-0.2,0.2),ylim=c(-0.2,0.2),col=\"blue\",type=\"p\")\n",
    "points(all_coord[251:317,],xlim=c(-0.2,0.2),ylim=c(-0.2,0.2),type=\"p\")"
   ]
  },
  {
   "cell_type": "markdown",
   "metadata": {},
   "source": [
    "### Other concerns:\n",
    "* What if we didn't use SNPs but rarer variation?\n",
    "* Only higher frequency?\n",
    "* What if we used coding SNPs?\n",
    "* What about other types of variation?\n",
    "* What if the population were Italians, French and English? Would we need more or fewer markers?\n",
    "* What about Mexicans and African Americans? would they cluster? \n",
    "* Why is this a problem in mapping? What are the solutions?"
   ]
  },
  {
   "cell_type": "code",
   "execution_count": 8,
   "metadata": {
    "collapsed": true
   },
   "outputs": [],
   "source": [
    "#grouping as a predictor:\n",
    "pred=cbind(c(rep(1,165),rep(0,(416-165))), c(rep(0,165),rep(1,84),rep(0,(416-249))) ,c(rep(0,249),rep(1,(416-249))))"
   ]
  },
  {
   "cell_type": "code",
   "execution_count": 9,
   "metadata": {
    "collapsed": false
   },
   "outputs": [
    {
     "ename": "ERROR",
     "evalue": "Error in eval(expr, envir, enclos): could not find function \"adonis\"\n",
     "output_type": "error",
     "traceback": [
      "Error in eval(expr, envir, enclos): could not find function \"adonis\"\n"
     ]
    },
    {
     "ename": "ERROR",
     "evalue": "Error in eval(expr, envir, enclos): could not find function \"adonis\"\n",
     "output_type": "error",
     "traceback": [
      "Error in eval(expr, envir, enclos): could not find function \"adonis\"\n"
     ]
    },
    {
     "ename": "ERROR",
     "evalue": "Error in eval(expr, envir, enclos): could not find function \"adonis\"\n",
     "output_type": "error",
     "traceback": [
      "Error in eval(expr, envir, enclos): could not find function \"adonis\"\n"
     ]
    }
   ],
   "source": [
    "#GAMOVA\n",
    "adonis(thin~pred)\n",
    "adonis(chr21~pred)\n",
    "adonis(all~pred)\n"
   ]
  },
  {
   "cell_type": "code",
   "execution_count": null,
   "metadata": {
    "collapsed": true
   },
   "outputs": [],
   "source": [
    "#random grouping\n",
    "p=rep(c(0,1),208)\n",
    "adonis(all~p)\n",
    "\n",
    "#why do we get lots more variation explained?"
   ]
  }
 ],
 "metadata": {
  "kernelspec": {
   "display_name": "R",
   "language": "R",
   "name": "ir"
  },
  "language_info": {
   "codemirror_mode": "r",
   "file_extension": ".r",
   "mimetype": "text/x-r-source",
   "name": "R",
   "pygments_lexer": "r",
   "version": "3.2.2"
  }
 },
 "nbformat": 4,
 "nbformat_minor": 0
}
